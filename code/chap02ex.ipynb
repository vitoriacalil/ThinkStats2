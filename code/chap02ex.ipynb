{
 "cells": [
  {
   "cell_type": "markdown",
   "metadata": {},
   "source": [
    "# Examples and Exercises from Think Stats, 2nd Edition\n",
    "\n",
    "http://thinkstats2.com\n",
    "\n",
    "Copyright 2016 Allen B. Downey\n",
    "\n",
    "MIT License: https://opensource.org/licenses/MIT\n"
   ]
  },
  {
   "cell_type": "code",
   "execution_count": 1,
   "metadata": {
    "collapsed": true
   },
   "outputs": [],
   "source": [
    "from __future__ import print_function, division\n",
    "\n",
    "%matplotlib inline\n",
    "\n",
    "import numpy as np\n",
    "\n",
    "import nsfg\n",
    "import first"
   ]
  },
  {
   "cell_type": "markdown",
   "metadata": {},
   "source": [
    "Given a list of values, there are several ways to count the frequency of each value."
   ]
  },
  {
   "cell_type": "code",
   "execution_count": 2,
   "metadata": {
    "collapsed": true
   },
   "outputs": [],
   "source": [
    "t = [1, 2, 2, 3, 5]"
   ]
  },
  {
   "cell_type": "markdown",
   "metadata": {},
   "source": [
    "You can use a Python dictionary:"
   ]
  },
  {
   "cell_type": "code",
   "execution_count": 3,
   "metadata": {
    "collapsed": false
   },
   "outputs": [
    {
     "data": {
      "text/plain": [
       "{1: 1, 2: 2, 3: 1, 5: 1}"
      ]
     },
     "execution_count": 3,
     "metadata": {},
     "output_type": "execute_result"
    }
   ],
   "source": [
    "hist = {}\n",
    "for x in t:\n",
    "    hist[x] = hist.get(x, 0) + 1\n",
    "    \n",
    "hist"
   ]
  },
  {
   "cell_type": "markdown",
   "metadata": {},
   "source": [
    "You can use a `Counter` (which is a dictionary with additional methods):"
   ]
  },
  {
   "cell_type": "code",
   "execution_count": 4,
   "metadata": {
    "collapsed": false
   },
   "outputs": [
    {
     "data": {
      "text/plain": [
       "Counter({1: 1, 2: 2, 3: 1, 5: 1})"
      ]
     },
     "execution_count": 4,
     "metadata": {},
     "output_type": "execute_result"
    }
   ],
   "source": [
    "from collections import Counter\n",
    "counter = Counter(t)\n",
    "counter"
   ]
  },
  {
   "cell_type": "markdown",
   "metadata": {},
   "source": [
    "Or you can use the `Hist` object provided by `thinkstats2`:"
   ]
  },
  {
   "cell_type": "code",
   "execution_count": 5,
   "metadata": {
    "collapsed": false
   },
   "outputs": [
    {
     "data": {
      "text/plain": [
       "Hist({1: 1, 2: 2, 3: 1, 5: 1})"
      ]
     },
     "execution_count": 5,
     "metadata": {},
     "output_type": "execute_result"
    }
   ],
   "source": [
    "import thinkstats2\n",
    "hist = thinkstats2.Hist([1, 2, 2, 3, 5])\n",
    "hist"
   ]
  },
  {
   "cell_type": "markdown",
   "metadata": {},
   "source": [
    "`Hist` provides `Freq`, which looks up the frequency of a value."
   ]
  },
  {
   "cell_type": "code",
   "execution_count": 6,
   "metadata": {
    "collapsed": false
   },
   "outputs": [
    {
     "data": {
      "text/plain": [
       "2"
      ]
     },
     "execution_count": 6,
     "metadata": {},
     "output_type": "execute_result"
    }
   ],
   "source": [
    "hist.Freq(2)"
   ]
  },
  {
   "cell_type": "markdown",
   "metadata": {},
   "source": [
    "You can also use the bracket operator, which does the same thing."
   ]
  },
  {
   "cell_type": "code",
   "execution_count": 7,
   "metadata": {
    "collapsed": false
   },
   "outputs": [
    {
     "data": {
      "text/plain": [
       "2"
      ]
     },
     "execution_count": 7,
     "metadata": {},
     "output_type": "execute_result"
    }
   ],
   "source": [
    "hist[2]"
   ]
  },
  {
   "cell_type": "markdown",
   "metadata": {},
   "source": [
    "If the value does not appear, it has frequency 0."
   ]
  },
  {
   "cell_type": "code",
   "execution_count": 8,
   "metadata": {
    "collapsed": false
   },
   "outputs": [
    {
     "data": {
      "text/plain": [
       "0"
      ]
     },
     "execution_count": 8,
     "metadata": {},
     "output_type": "execute_result"
    }
   ],
   "source": [
    "hist[4]"
   ]
  },
  {
   "cell_type": "markdown",
   "metadata": {},
   "source": [
    "The `Values` method returns the values:"
   ]
  },
  {
   "cell_type": "code",
   "execution_count": 9,
   "metadata": {
    "collapsed": false
   },
   "outputs": [
    {
     "data": {
      "text/plain": [
       "[1, 2, 3, 5]"
      ]
     },
     "execution_count": 9,
     "metadata": {},
     "output_type": "execute_result"
    }
   ],
   "source": [
    "hist.Values()"
   ]
  },
  {
   "cell_type": "markdown",
   "metadata": {},
   "source": [
    "So you can iterate the values and their frequencies like this:"
   ]
  },
  {
   "cell_type": "code",
   "execution_count": 10,
   "metadata": {
    "collapsed": false
   },
   "outputs": [
    {
     "name": "stdout",
     "output_type": "stream",
     "text": [
      "1 1\n",
      "2 2\n",
      "3 1\n",
      "5 1\n"
     ]
    }
   ],
   "source": [
    "for val in sorted(hist.Values()):\n",
    "    print(val, hist[val])"
   ]
  },
  {
   "cell_type": "markdown",
   "metadata": {},
   "source": [
    "Or you can use the `Items` method:"
   ]
  },
  {
   "cell_type": "code",
   "execution_count": 11,
   "metadata": {
    "collapsed": false
   },
   "outputs": [
    {
     "name": "stdout",
     "output_type": "stream",
     "text": [
      "1 1\n",
      "2 2\n",
      "3 1\n",
      "5 1\n"
     ]
    }
   ],
   "source": [
    "for val, freq in hist.Items():\n",
    "     print(val, freq)"
   ]
  },
  {
   "cell_type": "markdown",
   "metadata": {},
   "source": [
    "`thinkplot` is a wrapper for `matplotlib` that provides functions that work with the objects in `thinkstats2`.\n",
    "\n",
    "For example `Hist` plots the values and their frequencies as a bar graph.\n",
    "\n",
    "`Config` takes parameters that label the x and y axes, among other things."
   ]
  },
  {
   "cell_type": "code",
   "execution_count": 12,
   "metadata": {
    "collapsed": false
   },
   "outputs": [
    {
     "name": "stderr",
     "output_type": "stream",
     "text": [
      "No handlers could be found for logger \"matplotlib.legend\"\n"
     ]
    },
    {
     "data": {
      "image/png": "[encoded data removed]",
      "text/plain": [
       "<matplotlib.figure.Figure at 0x1a15599550>"
      ]
     },
     "metadata": {},
     "output_type": "display_data"
    }
   ],
   "source": [
    "import thinkplot\n",
    "thinkplot.Hist(hist)\n",
    "thinkplot.Config(xlabel='value', ylabel='frequency')"
   ]
  },
  {
   "cell_type": "markdown",
   "metadata": {},
   "source": [
    "As an example, I'll replicate some of the figures from the book.\n",
    "\n",
    "First, I'll load the data from the pregnancy file and select the records for live births."
   ]
  },
  {
   "cell_type": "code",
   "execution_count": 13,
   "metadata": {
    "collapsed": true
   },
   "outputs": [],
   "source": [
    "preg = nsfg.ReadFemPreg()\n",
    "live = preg[preg.outcome == 1]"
   ]
  },
  {
   "cell_type": "markdown",
   "metadata": {},
   "source": [
    "Here's the histogram of birth weights in pounds.  Notice that `Hist` works with anything iterable, including a Pandas Series.  The `label` attribute appears in the legend when you plot the `Hist`. "
   ]
  },
  {
   "cell_type": "code",
   "execution_count": 14,
   "metadata": {
    "collapsed": false
   },
   "outputs": [
    {
     "data": {
      "image/png": "[encoded data removed]",
      "text/plain": [
       "<matplotlib.figure.Figure at 0x1a1af9f690>"
      ]
     },
     "metadata": {},
     "output_type": "display_data"
    }
   ],
   "source": [
    "hist = thinkstats2.Hist(live.birthwgt_lb, label='birthwgt_lb')\n",
    "thinkplot.Hist(hist)\n",
    "thinkplot.Config(xlabel='Birth weight (pounds)', ylabel='Count')"
   ]
  },
  {
   "cell_type": "markdown",
   "metadata": {},
   "source": [
    "Before plotting the ages, I'll apply `floor` to round down:"
   ]
  },
  {
   "cell_type": "code",
   "execution_count": 15,
   "metadata": {
    "collapsed": false
   },
   "outputs": [
    {
     "data": {
      "text/plain": [
       "0    33.0\n",
       "1    39.0\n",
       "2    14.0\n",
       "3    17.0\n",
       "4    18.0\n",
       "Name: agepreg, dtype: float64"
      ]
     },
     "execution_count": 15,
     "metadata": {},
     "output_type": "execute_result"
    }
   ],
   "source": [
    "ages = np.floor(live.agepreg)\n",
    "ages.head()"
   ]
  },
  {
   "cell_type": "code",
   "execution_count": 16,
   "metadata": {
    "collapsed": false
   },
   "outputs": [
    {
     "data": {
      "image/png": "[encoded data removed]",
      "text/plain": [
       "<matplotlib.figure.Figure at 0x1a1e4917d0>"
      ]
     },
     "metadata": {},
     "output_type": "display_data"
    }
   ],
   "source": [
    "hist = thinkstats2.Hist(ages, label='agepreg')\n",
    "thinkplot.Hist(hist)\n",
    "thinkplot.Config(xlabel='years', ylabel='Count')"
   ]
  },
  {
   "cell_type": "markdown",
   "metadata": {},
   "source": [
    "As an exercise, plot the histogram of pregnancy lengths (column `prglngth`)."
   ]
  },
  {
   "cell_type": "code",
   "execution_count": 17,
   "metadata": {
    "collapsed": false
   },
   "outputs": [
    {
     "data": {
      "image/png": "[encoded data removed]",
      "text/plain": [
       "<matplotlib.figure.Figure at 0x1a1f65e690>"
      ]
     },
     "metadata": {},
     "output_type": "display_data"
    },
    {
     "data": {
      "text/plain": [
       "<matplotlib.figure.Figure at 0x1a15599c10>"
      ]
     },
     "metadata": {},
     "output_type": "display_data"
    }
   ],
   "source": [
    "hist = thinkstats2.Hist(live.prglngth, label='prglngth')\n",
    "thinkplot.Hist(hist)\n",
    "thinkplot.Show(xlabel='weeks', ylabel='frequency')"
   ]
  },
  {
   "cell_type": "markdown",
   "metadata": {},
   "source": [
    "`Hist` provides smallest, which select the lowest values and their frequencies."
   ]
  },
  {
   "cell_type": "code",
   "execution_count": 18,
   "metadata": {
    "collapsed": false
   },
   "outputs": [
    {
     "name": "stdout",
     "output_type": "stream",
     "text": [
      "0 1\n",
      "4 1\n",
      "9 1\n",
      "13 1\n",
      "17 2\n",
      "18 1\n",
      "19 1\n",
      "20 1\n",
      "21 2\n",
      "22 7\n"
     ]
    }
   ],
   "source": [
    "for weeks, freq in hist.Smallest(10):\n",
    "    print(weeks, freq)"
   ]
  },
  {
   "cell_type": "markdown",
   "metadata": {},
   "source": [
    "Use `Largest` to display the longest pregnancy lengths."
   ]
  },
  {
   "cell_type": "code",
   "execution_count": 19,
   "metadata": {
    "collapsed": false
   },
   "outputs": [
    {
     "name": "stdout",
     "output_type": "stream",
     "text": [
      "50 2\n",
      "48 7\n",
      "47 1\n",
      "46 1\n",
      "45 10\n",
      "44 46\n",
      "43 148\n",
      "42 328\n",
      "41 587\n",
      "40 1116\n"
     ]
    }
   ],
   "source": [
    "for weeks, freq in hist.Largest(10):\n",
    "    print(weeks, freq)"
   ]
  },
  {
   "cell_type": "markdown",
   "metadata": {},
   "source": [
    "From live births, we can select first babies and others using `birthord`, then compute histograms of pregnancy length for the two groups."
   ]
  },
  {
   "cell_type": "code",
   "execution_count": 20,
   "metadata": {
    "collapsed": true
   },
   "outputs": [],
   "source": [
    "firsts = live[live.birthord == 1]\n",
    "others = live[live.birthord != 1]\n",
    "\n",
    "first_hist = thinkstats2.Hist(firsts.prglngth, label='first')\n",
    "other_hist = thinkstats2.Hist(others.prglngth, label='other')"
   ]
  },
  {
   "cell_type": "markdown",
   "metadata": {},
   "source": [
    "We can use `width` and `align` to plot two histograms side-by-side."
   ]
  },
  {
   "cell_type": "code",
   "execution_count": 21,
   "metadata": {
    "collapsed": false
   },
   "outputs": [
    {
     "data": {
      "image/png": "[encoded data removed]",
      "text/plain": [
       "<matplotlib.figure.Figure at 0x1a1f4b7f10>"
      ]
     },
     "metadata": {},
     "output_type": "display_data"
    }
   ],
   "source": [
    "width = 0.45\n",
    "thinkplot.PrePlot(2)\n",
    "thinkplot.Hist(first_hist, align='right', width=width)\n",
    "thinkplot.Hist(other_hist, align='left', width=width)\n",
    "thinkplot.Config(xlabel='weeks', ylabel='Count', xlim=[27, 46])"
   ]
  },
  {
   "cell_type": "markdown",
   "metadata": {},
   "source": [
    "`Series` provides methods to compute summary statistics:"
   ]
  },
  {
   "cell_type": "code",
   "execution_count": 22,
   "metadata": {
    "collapsed": true
   },
   "outputs": [],
   "source": [
    "mean = live.prglngth.mean()\n",
    "var = live.prglngth.var()\n",
    "std = live.prglngth.std()"
   ]
  },
  {
   "cell_type": "markdown",
   "metadata": {},
   "source": [
    "Here are the mean and standard deviation:"
   ]
  },
  {
   "cell_type": "code",
   "execution_count": 23,
   "metadata": {
    "collapsed": false
   },
   "outputs": [
    {
     "data": {
      "text/plain": [
       "(38.56055968517709, 2.702343810070593)"
      ]
     },
     "execution_count": 23,
     "metadata": {},
     "output_type": "execute_result"
    }
   ],
   "source": [
    "mean, std"
   ]
  },
  {
   "cell_type": "markdown",
   "metadata": {},
   "source": [
    "As an exercise, confirm that `std` is the square root of `var`:"
   ]
  },
  {
   "cell_type": "code",
   "execution_count": 24,
   "metadata": {
    "collapsed": false
   },
   "outputs": [
    {
     "data": {
      "text/plain": [
       "True"
      ]
     },
     "execution_count": 24,
     "metadata": {},
     "output_type": "execute_result"
    }
   ],
   "source": [
    "np.sqrt(var) == std"
   ]
  },
  {
   "cell_type": "markdown",
   "metadata": {},
   "source": [
    "Here's are the mean pregnancy lengths for first babies and others:"
   ]
  },
  {
   "cell_type": "code",
   "execution_count": 25,
   "metadata": {
    "collapsed": false
   },
   "outputs": [
    {
     "data": {
      "text/plain": [
       "(38.60095173351461, 38.52291446673706)"
      ]
     },
     "execution_count": 25,
     "metadata": {},
     "output_type": "execute_result"
    }
   ],
   "source": [
    "firsts.prglngth.mean(), others.prglngth.mean()"
   ]
  },
  {
   "cell_type": "markdown",
   "metadata": {},
   "source": [
    "And here's the difference (in weeks):"
   ]
  },
  {
   "cell_type": "code",
   "execution_count": 26,
   "metadata": {
    "collapsed": false
   },
   "outputs": [
    {
     "data": {
      "text/plain": [
       "0.07803726677754952"
      ]
     },
     "execution_count": 26,
     "metadata": {},
     "output_type": "execute_result"
    }
   ],
   "source": [
    "firsts.prglngth.mean() - others.prglngth.mean()"
   ]
  },
  {
   "cell_type": "markdown",
   "metadata": {},
   "source": [
    "This functon computes the Cohen effect size, which is the difference in means expressed in number of standard deviations:"
   ]
  },
  {
   "cell_type": "code",
   "execution_count": 27,
   "metadata": {
    "collapsed": true
   },
   "outputs": [],
   "source": [
    "def CohenEffectSize(group1, group2):\n",
    "    \"\"\"Computes Cohen's effect size for two groups.\n",
    "    \n",
    "    group1: Series or DataFrame\n",
    "    group2: Series or DataFrame\n",
    "    \n",
    "    returns: float if the arguments are Series;\n",
    "             Series if the arguments are DataFrames\n",
    "    \"\"\"\n",
    "    diff = group1.mean() - group2.mean()\n",
    "\n",
    "    var1 = group1.var()\n",
    "    var2 = group2.var()\n",
    "    n1, n2 = len(group1), len(group2)\n",
    "\n",
    "    pooled_var = (n1 * var1 + n2 * var2) / (n1 + n2)\n",
    "    d = diff / np.sqrt(pooled_var)\n",
    "    return d"
   ]
  },
  {
   "cell_type": "markdown",
   "metadata": {},
   "source": [
    "Compute the Cohen effect size for the difference in pregnancy length for first babies and others."
   ]
  },
  {
   "cell_type": "code",
   "execution_count": 28,
   "metadata": {
    "collapsed": false
   },
   "outputs": [
    {
     "data": {
      "text/plain": [
       "0.028879044654449883"
      ]
     },
     "execution_count": 28,
     "metadata": {},
     "output_type": "execute_result"
    }
   ],
   "source": [
    "CohenEffectSize(firsts.prglngth, others.prglngth)"
   ]
  },
  {
   "cell_type": "markdown",
   "metadata": {},
   "source": [
    "## Exercises"
   ]
  },
  {
   "cell_type": "markdown",
   "metadata": {},
   "source": [
    "Using the variable `totalwgt_lb`, investigate whether first babies are lighter or heavier than others. \n",
    "\n",
    "Compute Cohen’s effect size to quantify the difference between the groups.  How does it compare to the difference in pregnancy length?"
   ]
  },
  {
   "cell_type": "code",
   "execution_count": 29,
   "metadata": {
    "collapsed": false
   },
   "outputs": [
    {
     "data": {
      "text/plain": [
       "(7.201094430437772, 7.325855614973262)"
      ]
     },
     "execution_count": 29,
     "metadata": {},
     "output_type": "execute_result"
    }
   ],
   "source": [
    "firsts.totalwgt_lb.mean(), others.totalwgt_lb.mean()"
   ]
  },
  {
   "cell_type": "code",
   "execution_count": 30,
   "metadata": {
    "collapsed": false
   },
   "outputs": [
    {
     "data": {
      "text/plain": [
       "-0.088672927072602"
      ]
     },
     "execution_count": 30,
     "metadata": {},
     "output_type": "execute_result"
    }
   ],
   "source": [
    "CohenEffectSize(firsts.totalwgt_lb, others.totalwgt_lb)"
   ]
  },
  {
   "cell_type": "markdown",
   "metadata": {},
   "source": [
    "For the next few exercises, we'll load the respondent file:"
   ]
  },
  {
   "cell_type": "code",
   "execution_count": 31,
   "metadata": {
    "collapsed": false
   },
   "outputs": [
    {
     "data": {
      "text/html": [
       "<div>\n",
       "<style scoped>\n",
       "    .dataframe tbody tr th:only-of-type {\n",
       "        vertical-align: middle;\n",
       "    }\n",
       "\n",
       "    .dataframe tbody tr th {\n",
       "        vertical-align: top;\n",
       "    }\n",
       "\n",
       "    .dataframe thead th {\n",
       "        text-align: right;\n",
       "    }\n",
       "</style>\n",
       "<table border=\"1\" class=\"dataframe\">\n",
       "  <thead>\n",
       "    <tr style=\"text-align: right;\">\n",
       "      <th></th>\n",
       "      <th>caseid</th>\n",
       "      <th>rscrinf</th>\n",
       "      <th>rdormres</th>\n",
       "      <th>rostscrn</th>\n",
       "      <th>rscreenhisp</th>\n",
       "      <th>rscreenrace</th>\n",
       "      <th>age_a</th>\n",
       "      <th>age_r</th>\n",
       "      <th>cmbirth</th>\n",
       "      <th>agescrn</th>\n",
       "      <th>...</th>\n",
       "      <th>pubassis_i</th>\n",
       "      <th>basewgt</th>\n",
       "      <th>adj_mod_basewgt</th>\n",
       "      <th>finalwgt</th>\n",
       "      <th>secu_r</th>\n",
       "      <th>sest</th>\n",
       "      <th>cmintvw</th>\n",
       "      <th>cmlstyr</th>\n",
       "      <th>screentime</th>\n",
       "      <th>intvlngth</th>\n",
       "    </tr>\n",
       "  </thead>\n",
       "  <tbody>\n",
       "    <tr>\n",
       "      <th>0</th>\n",
       "      <td>2298</td>\n",
       "      <td>1</td>\n",
       "      <td>5</td>\n",
       "      <td>5</td>\n",
       "      <td>1</td>\n",
       "      <td>5.0</td>\n",
       "      <td>27</td>\n",
       "      <td>27</td>\n",
       "      <td>902</td>\n",
       "      <td>27</td>\n",
       "      <td>...</td>\n",
       "      <td>0</td>\n",
       "      <td>3247.916977</td>\n",
       "      <td>5123.759559</td>\n",
       "      <td>5556.717241</td>\n",
       "      <td>2</td>\n",
       "      <td>18</td>\n",
       "      <td>1234</td>\n",
       "      <td>1222</td>\n",
       "      <td>18:26:36</td>\n",
       "      <td>110.492667</td>\n",
       "    </tr>\n",
       "    <tr>\n",
       "      <th>1</th>\n",
       "      <td>5012</td>\n",
       "      <td>1</td>\n",
       "      <td>5</td>\n",
       "      <td>1</td>\n",
       "      <td>5</td>\n",
       "      <td>5.0</td>\n",
       "      <td>42</td>\n",
       "      <td>42</td>\n",
       "      <td>718</td>\n",
       "      <td>42</td>\n",
       "      <td>...</td>\n",
       "      <td>0</td>\n",
       "      <td>2335.279149</td>\n",
       "      <td>2846.799490</td>\n",
       "      <td>4744.191350</td>\n",
       "      <td>2</td>\n",
       "      <td>18</td>\n",
       "      <td>1233</td>\n",
       "      <td>1221</td>\n",
       "      <td>16:30:59</td>\n",
       "      <td>64.294000</td>\n",
       "    </tr>\n",
       "    <tr>\n",
       "      <th>2</th>\n",
       "      <td>11586</td>\n",
       "      <td>1</td>\n",
       "      <td>5</td>\n",
       "      <td>1</td>\n",
       "      <td>5</td>\n",
       "      <td>5.0</td>\n",
       "      <td>43</td>\n",
       "      <td>43</td>\n",
       "      <td>708</td>\n",
       "      <td>43</td>\n",
       "      <td>...</td>\n",
       "      <td>0</td>\n",
       "      <td>2335.279149</td>\n",
       "      <td>2846.799490</td>\n",
       "      <td>4744.191350</td>\n",
       "      <td>2</td>\n",
       "      <td>18</td>\n",
       "      <td>1234</td>\n",
       "      <td>1222</td>\n",
       "      <td>18:19:09</td>\n",
       "      <td>75.149167</td>\n",
       "    </tr>\n",
       "    <tr>\n",
       "      <th>3</th>\n",
       "      <td>6794</td>\n",
       "      <td>5</td>\n",
       "      <td>5</td>\n",
       "      <td>4</td>\n",
       "      <td>1</td>\n",
       "      <td>5.0</td>\n",
       "      <td>15</td>\n",
       "      <td>15</td>\n",
       "      <td>1042</td>\n",
       "      <td>15</td>\n",
       "      <td>...</td>\n",
       "      <td>0</td>\n",
       "      <td>3783.152221</td>\n",
       "      <td>5071.464231</td>\n",
       "      <td>5923.977368</td>\n",
       "      <td>2</td>\n",
       "      <td>18</td>\n",
       "      <td>1234</td>\n",
       "      <td>1222</td>\n",
       "      <td>15:54:43</td>\n",
       "      <td>28.642833</td>\n",
       "    </tr>\n",
       "    <tr>\n",
       "      <th>4</th>\n",
       "      <td>616</td>\n",
       "      <td>1</td>\n",
       "      <td>5</td>\n",
       "      <td>4</td>\n",
       "      <td>1</td>\n",
       "      <td>5.0</td>\n",
       "      <td>20</td>\n",
       "      <td>20</td>\n",
       "      <td>991</td>\n",
       "      <td>20</td>\n",
       "      <td>...</td>\n",
       "      <td>0</td>\n",
       "      <td>5341.329968</td>\n",
       "      <td>6437.335772</td>\n",
       "      <td>7229.128072</td>\n",
       "      <td>2</td>\n",
       "      <td>18</td>\n",
       "      <td>1233</td>\n",
       "      <td>1221</td>\n",
       "      <td>14:19:44</td>\n",
       "      <td>69.502667</td>\n",
       "    </tr>\n",
       "    <tr>\n",
       "      <th>5</th>\n",
       "      <td>845</td>\n",
       "      <td>1</td>\n",
       "      <td>5</td>\n",
       "      <td>4</td>\n",
       "      <td>1</td>\n",
       "      <td>5.0</td>\n",
       "      <td>42</td>\n",
       "      <td>42</td>\n",
       "      <td>727</td>\n",
       "      <td>42</td>\n",
       "      <td>...</td>\n",
       "      <td>0</td>\n",
       "      <td>2335.279149</td>\n",
       "      <td>3725.796795</td>\n",
       "      <td>4705.681352</td>\n",
       "      <td>2</td>\n",
       "      <td>18</td>\n",
       "      <td>1234</td>\n",
       "      <td>1222</td>\n",
       "      <td>17:10:13</td>\n",
       "      <td>95.488000</td>\n",
       "    </tr>\n",
       "    <tr>\n",
       "      <th>6</th>\n",
       "      <td>10333</td>\n",
       "      <td>5</td>\n",
       "      <td>5</td>\n",
       "      <td>3</td>\n",
       "      <td>1</td>\n",
       "      <td>5.0</td>\n",
       "      <td>17</td>\n",
       "      <td>17</td>\n",
       "      <td>1029</td>\n",
       "      <td>17</td>\n",
       "      <td>...</td>\n",
       "      <td>0</td>\n",
       "      <td>2335.279149</td>\n",
       "      <td>2687.399758</td>\n",
       "      <td>3139.151658</td>\n",
       "      <td>2</td>\n",
       "      <td>18</td>\n",
       "      <td>1236</td>\n",
       "      <td>1224</td>\n",
       "      <td>14:14:38</td>\n",
       "      <td>61.204333</td>\n",
       "    </tr>\n",
       "    <tr>\n",
       "      <th>7</th>\n",
       "      <td>855</td>\n",
       "      <td>5</td>\n",
       "      <td>5</td>\n",
       "      <td>4</td>\n",
       "      <td>5</td>\n",
       "      <td>5.0</td>\n",
       "      <td>22</td>\n",
       "      <td>22</td>\n",
       "      <td>965</td>\n",
       "      <td>22</td>\n",
       "      <td>...</td>\n",
       "      <td>0</td>\n",
       "      <td>4670.558298</td>\n",
       "      <td>7122.614751</td>\n",
       "      <td>10019.382170</td>\n",
       "      <td>2</td>\n",
       "      <td>18</td>\n",
       "      <td>1235</td>\n",
       "      <td>1223</td>\n",
       "      <td>14:42:52</td>\n",
       "      <td>59.756333</td>\n",
       "    </tr>\n",
       "    <tr>\n",
       "      <th>8</th>\n",
       "      <td>8656</td>\n",
       "      <td>5</td>\n",
       "      <td>5</td>\n",
       "      <td>4</td>\n",
       "      <td>1</td>\n",
       "      <td>5.0</td>\n",
       "      <td>38</td>\n",
       "      <td>38</td>\n",
       "      <td>780</td>\n",
       "      <td>38</td>\n",
       "      <td>...</td>\n",
       "      <td>0</td>\n",
       "      <td>5198.652195</td>\n",
       "      <td>6027.568848</td>\n",
       "      <td>6520.021223</td>\n",
       "      <td>2</td>\n",
       "      <td>18</td>\n",
       "      <td>1237</td>\n",
       "      <td>1225</td>\n",
       "      <td>15:32:34</td>\n",
       "      <td>56.978833</td>\n",
       "    </tr>\n",
       "    <tr>\n",
       "      <th>9</th>\n",
       "      <td>3566</td>\n",
       "      <td>5</td>\n",
       "      <td>5</td>\n",
       "      <td>4</td>\n",
       "      <td>5</td>\n",
       "      <td>5.0</td>\n",
       "      <td>21</td>\n",
       "      <td>21</td>\n",
       "      <td>974</td>\n",
       "      <td>21</td>\n",
       "      <td>...</td>\n",
       "      <td>0</td>\n",
       "      <td>2764.142038</td>\n",
       "      <td>3240.986558</td>\n",
       "      <td>4559.095792</td>\n",
       "      <td>2</td>\n",
       "      <td>18</td>\n",
       "      <td>1231</td>\n",
       "      <td>1219</td>\n",
       "      <td>16:22:25</td>\n",
       "      <td>104.744667</td>\n",
       "    </tr>\n",
       "    <tr>\n",
       "      <th>10</th>\n",
       "      <td>5917</td>\n",
       "      <td>1</td>\n",
       "      <td>5</td>\n",
       "      <td>3</td>\n",
       "      <td>1</td>\n",
       "      <td>5.0</td>\n",
       "      <td>44</td>\n",
       "      <td>43</td>\n",
       "      <td>714</td>\n",
       "      <td>43</td>\n",
       "      <td>...</td>\n",
       "      <td>0</td>\n",
       "      <td>2418.624283</td>\n",
       "      <td>2762.143030</td>\n",
       "      <td>3488.586646</td>\n",
       "      <td>2</td>\n",
       "      <td>18</td>\n",
       "      <td>1233</td>\n",
       "      <td>1221</td>\n",
       "      <td>15:38:06</td>\n",
       "      <td>96.850167</td>\n",
       "    </tr>\n",
       "    <tr>\n",
       "      <th>11</th>\n",
       "      <td>9200</td>\n",
       "      <td>5</td>\n",
       "      <td>5</td>\n",
       "      <td>3</td>\n",
       "      <td>1</td>\n",
       "      <td>5.0</td>\n",
       "      <td>26</td>\n",
       "      <td>26</td>\n",
       "      <td>923</td>\n",
       "      <td>26</td>\n",
       "      <td>...</td>\n",
       "      <td>0</td>\n",
       "      <td>2418.624283</td>\n",
       "      <td>2754.293339</td>\n",
       "      <td>2987.031126</td>\n",
       "      <td>2</td>\n",
       "      <td>18</td>\n",
       "      <td>1237</td>\n",
       "      <td>1225</td>\n",
       "      <td>14:12:31</td>\n",
       "      <td>61.060667</td>\n",
       "    </tr>\n",
       "    <tr>\n",
       "      <th>12</th>\n",
       "      <td>6320</td>\n",
       "      <td>5</td>\n",
       "      <td>5</td>\n",
       "      <td>5</td>\n",
       "      <td>5</td>\n",
       "      <td>1.0</td>\n",
       "      <td>23</td>\n",
       "      <td>23</td>\n",
       "      <td>952</td>\n",
       "      <td>23</td>\n",
       "      <td>...</td>\n",
       "      <td>0</td>\n",
       "      <td>5497.225851</td>\n",
       "      <td>6448.332868</td>\n",
       "      <td>7241.477811</td>\n",
       "      <td>1</td>\n",
       "      <td>18</td>\n",
       "      <td>1236</td>\n",
       "      <td>1224</td>\n",
       "      <td>14:27:20</td>\n",
       "      <td>69.906500</td>\n",
       "    </tr>\n",
       "    <tr>\n",
       "      <th>13</th>\n",
       "      <td>11700</td>\n",
       "      <td>1</td>\n",
       "      <td>5</td>\n",
       "      <td>4</td>\n",
       "      <td>1</td>\n",
       "      <td>5.0</td>\n",
       "      <td>34</td>\n",
       "      <td>34</td>\n",
       "      <td>822</td>\n",
       "      <td>34</td>\n",
       "      <td>...</td>\n",
       "      <td>0</td>\n",
       "      <td>3362.448309</td>\n",
       "      <td>3677.062170</td>\n",
       "      <td>4666.559600</td>\n",
       "      <td>1</td>\n",
       "      <td>18</td>\n",
       "      <td>1236</td>\n",
       "      <td>1224</td>\n",
       "      <td>11:35:31</td>\n",
       "      <td>77.493333</td>\n",
       "    </tr>\n",
       "    <tr>\n",
       "      <th>14</th>\n",
       "      <td>7354</td>\n",
       "      <td>1</td>\n",
       "      <td>5</td>\n",
       "      <td>4</td>\n",
       "      <td>1</td>\n",
       "      <td>5.0</td>\n",
       "      <td>28</td>\n",
       "      <td>28</td>\n",
       "      <td>896</td>\n",
       "      <td>28</td>\n",
       "      <td>...</td>\n",
       "      <td>0</td>\n",
       "      <td>2417.628123</td>\n",
       "      <td>2790.899197</td>\n",
       "      <td>3026.730179</td>\n",
       "      <td>1</td>\n",
       "      <td>18</td>\n",
       "      <td>1235</td>\n",
       "      <td>1223</td>\n",
       "      <td>14:40:18</td>\n",
       "      <td>79.018500</td>\n",
       "    </tr>\n",
       "    <tr>\n",
       "      <th>15</th>\n",
       "      <td>3697</td>\n",
       "      <td>5</td>\n",
       "      <td>5</td>\n",
       "      <td>4</td>\n",
       "      <td>5</td>\n",
       "      <td>5.0</td>\n",
       "      <td>28</td>\n",
       "      <td>28</td>\n",
       "      <td>896</td>\n",
       "      <td>28</td>\n",
       "      <td>...</td>\n",
       "      <td>0</td>\n",
       "      <td>9670.512492</td>\n",
       "      <td>18559.585881</td>\n",
       "      <td>31215.367494</td>\n",
       "      <td>1</td>\n",
       "      <td>18</td>\n",
       "      <td>1236</td>\n",
       "      <td>1224</td>\n",
       "      <td>11:59:26</td>\n",
       "      <td>45.963500</td>\n",
       "    </tr>\n",
       "    <tr>\n",
       "      <th>16</th>\n",
       "      <td>4881</td>\n",
       "      <td>1</td>\n",
       "      <td>5</td>\n",
       "      <td>5</td>\n",
       "      <td>1</td>\n",
       "      <td>5.0</td>\n",
       "      <td>23</td>\n",
       "      <td>23</td>\n",
       "      <td>948</td>\n",
       "      <td>23</td>\n",
       "      <td>...</td>\n",
       "      <td>0</td>\n",
       "      <td>3292.089359</td>\n",
       "      <td>3935.302679</td>\n",
       "      <td>4419.344908</td>\n",
       "      <td>1</td>\n",
       "      <td>18</td>\n",
       "      <td>1234</td>\n",
       "      <td>1222</td>\n",
       "      <td>20:37:54</td>\n",
       "      <td>110.416833</td>\n",
       "    </tr>\n",
       "    <tr>\n",
       "      <th>17</th>\n",
       "      <td>5862</td>\n",
       "      <td>1</td>\n",
       "      <td>5</td>\n",
       "      <td>4</td>\n",
       "      <td>1</td>\n",
       "      <td>5.0</td>\n",
       "      <td>33</td>\n",
       "      <td>33</td>\n",
       "      <td>831</td>\n",
       "      <td>33</td>\n",
       "      <td>...</td>\n",
       "      <td>0</td>\n",
       "      <td>3056.771190</td>\n",
       "      <td>3456.489520</td>\n",
       "      <td>4386.630850</td>\n",
       "      <td>1</td>\n",
       "      <td>18</td>\n",
       "      <td>1234</td>\n",
       "      <td>1222</td>\n",
       "      <td>16:42:13</td>\n",
       "      <td>107.819667</td>\n",
       "    </tr>\n",
       "    <tr>\n",
       "      <th>18</th>\n",
       "      <td>8542</td>\n",
       "      <td>5</td>\n",
       "      <td>5</td>\n",
       "      <td>5</td>\n",
       "      <td>5</td>\n",
       "      <td>5.0</td>\n",
       "      <td>16</td>\n",
       "      <td>16</td>\n",
       "      <td>1036</td>\n",
       "      <td>16</td>\n",
       "      <td>...</td>\n",
       "      <td>0</td>\n",
       "      <td>5900.163872</td>\n",
       "      <td>6697.056170</td>\n",
       "      <td>7822.831313</td>\n",
       "      <td>1</td>\n",
       "      <td>18</td>\n",
       "      <td>1237</td>\n",
       "      <td>1225</td>\n",
       "      <td>13:04:36</td>\n",
       "      <td>72.481500</td>\n",
       "    </tr>\n",
       "    <tr>\n",
       "      <th>19</th>\n",
       "      <td>2054</td>\n",
       "      <td>1</td>\n",
       "      <td>5</td>\n",
       "      <td>4</td>\n",
       "      <td>5</td>\n",
       "      <td>1.0</td>\n",
       "      <td>24</td>\n",
       "      <td>24</td>\n",
       "      <td>939</td>\n",
       "      <td>24</td>\n",
       "      <td>...</td>\n",
       "      <td>0</td>\n",
       "      <td>2417.628123</td>\n",
       "      <td>2570.384230</td>\n",
       "      <td>2886.541491</td>\n",
       "      <td>1</td>\n",
       "      <td>18</td>\n",
       "      <td>1236</td>\n",
       "      <td>1224</td>\n",
       "      <td>13:58:43</td>\n",
       "      <td>87.417500</td>\n",
       "    </tr>\n",
       "    <tr>\n",
       "      <th>20</th>\n",
       "      <td>3719</td>\n",
       "      <td>5</td>\n",
       "      <td>5</td>\n",
       "      <td>2</td>\n",
       "      <td>5</td>\n",
       "      <td>5.0</td>\n",
       "      <td>22</td>\n",
       "      <td>22</td>\n",
       "      <td>972</td>\n",
       "      <td>22</td>\n",
       "      <td>...</td>\n",
       "      <td>1</td>\n",
       "      <td>4168.324350</td>\n",
       "      <td>4879.253694</td>\n",
       "      <td>5479.401898</td>\n",
       "      <td>1</td>\n",
       "      <td>18</td>\n",
       "      <td>1238</td>\n",
       "      <td>1226</td>\n",
       "      <td>12:50:26</td>\n",
       "      <td>53.782000</td>\n",
       "    </tr>\n",
       "    <tr>\n",
       "      <th>21</th>\n",
       "      <td>11740</td>\n",
       "      <td>1</td>\n",
       "      <td>5</td>\n",
       "      <td>5</td>\n",
       "      <td>1</td>\n",
       "      <td>5.0</td>\n",
       "      <td>32</td>\n",
       "      <td>32</td>\n",
       "      <td>843</td>\n",
       "      <td>32</td>\n",
       "      <td>...</td>\n",
       "      <td>0</td>\n",
       "      <td>2417.628123</td>\n",
       "      <td>2790.899197</td>\n",
       "      <td>3541.930171</td>\n",
       "      <td>1</td>\n",
       "      <td>18</td>\n",
       "      <td>1234</td>\n",
       "      <td>1222</td>\n",
       "      <td>14:23:08</td>\n",
       "      <td>92.950500</td>\n",
       "    </tr>\n",
       "    <tr>\n",
       "      <th>22</th>\n",
       "      <td>11343</td>\n",
       "      <td>1</td>\n",
       "      <td>5</td>\n",
       "      <td>5</td>\n",
       "      <td>1</td>\n",
       "      <td>5.0</td>\n",
       "      <td>41</td>\n",
       "      <td>41</td>\n",
       "      <td>741</td>\n",
       "      <td>41</td>\n",
       "      <td>...</td>\n",
       "      <td>0</td>\n",
       "      <td>2417.628123</td>\n",
       "      <td>4394.216361</td>\n",
       "      <td>5549.895265</td>\n",
       "      <td>1</td>\n",
       "      <td>18</td>\n",
       "      <td>1237</td>\n",
       "      <td>1225</td>\n",
       "      <td>20:29:06</td>\n",
       "      <td>70.791667</td>\n",
       "    </tr>\n",
       "    <tr>\n",
       "      <th>23</th>\n",
       "      <td>7075</td>\n",
       "      <td>1</td>\n",
       "      <td>5</td>\n",
       "      <td>4</td>\n",
       "      <td>1</td>\n",
       "      <td>5.0</td>\n",
       "      <td>37</td>\n",
       "      <td>37</td>\n",
       "      <td>782</td>\n",
       "      <td>37</td>\n",
       "      <td>...</td>\n",
       "      <td>0</td>\n",
       "      <td>4308.038516</td>\n",
       "      <td>5562.306199</td>\n",
       "      <td>6016.746616</td>\n",
       "      <td>2</td>\n",
       "      <td>18</td>\n",
       "      <td>1232</td>\n",
       "      <td>1220</td>\n",
       "      <td>16:30:34</td>\n",
       "      <td>80.659000</td>\n",
       "    </tr>\n",
       "    <tr>\n",
       "      <th>24</th>\n",
       "      <td>5422</td>\n",
       "      <td>1</td>\n",
       "      <td>5</td>\n",
       "      <td>2</td>\n",
       "      <td>1</td>\n",
       "      <td>5.0</td>\n",
       "      <td>38</td>\n",
       "      <td>38</td>\n",
       "      <td>773</td>\n",
       "      <td>38</td>\n",
       "      <td>...</td>\n",
       "      <td>0</td>\n",
       "      <td>3363.768618</td>\n",
       "      <td>3948.605534</td>\n",
       "      <td>4271.206606</td>\n",
       "      <td>1</td>\n",
       "      <td>18</td>\n",
       "      <td>1234</td>\n",
       "      <td>1222</td>\n",
       "      <td>17:07:52</td>\n",
       "      <td>45.171500</td>\n",
       "    </tr>\n",
       "    <tr>\n",
       "      <th>25</th>\n",
       "      <td>2178</td>\n",
       "      <td>5</td>\n",
       "      <td>5</td>\n",
       "      <td>3</td>\n",
       "      <td>1</td>\n",
       "      <td>5.0</td>\n",
       "      <td>29</td>\n",
       "      <td>29</td>\n",
       "      <td>877</td>\n",
       "      <td>29</td>\n",
       "      <td>...</td>\n",
       "      <td>0</td>\n",
       "      <td>3363.768618</td>\n",
       "      <td>5306.521605</td>\n",
       "      <td>5754.922681</td>\n",
       "      <td>1</td>\n",
       "      <td>18</td>\n",
       "      <td>1234</td>\n",
       "      <td>1222</td>\n",
       "      <td>18:28:12</td>\n",
       "      <td>77.489833</td>\n",
       "    </tr>\n",
       "    <tr>\n",
       "      <th>26</th>\n",
       "      <td>8358</td>\n",
       "      <td>5</td>\n",
       "      <td>5</td>\n",
       "      <td>4</td>\n",
       "      <td>5</td>\n",
       "      <td>5.0</td>\n",
       "      <td>21</td>\n",
       "      <td>21</td>\n",
       "      <td>977</td>\n",
       "      <td>21</td>\n",
       "      <td>...</td>\n",
       "      <td>0</td>\n",
       "      <td>2418.624283</td>\n",
       "      <td>2688.131135</td>\n",
       "      <td>3018.771264</td>\n",
       "      <td>2</td>\n",
       "      <td>18</td>\n",
       "      <td>1237</td>\n",
       "      <td>1225</td>\n",
       "      <td>16:10:17</td>\n",
       "      <td>28.934833</td>\n",
       "    </tr>\n",
       "    <tr>\n",
       "      <th>27</th>\n",
       "      <td>5083</td>\n",
       "      <td>1</td>\n",
       "      <td>5</td>\n",
       "      <td>4</td>\n",
       "      <td>1</td>\n",
       "      <td>5.0</td>\n",
       "      <td>37</td>\n",
       "      <td>37</td>\n",
       "      <td>789</td>\n",
       "      <td>37</td>\n",
       "      <td>...</td>\n",
       "      <td>0</td>\n",
       "      <td>2418.624283</td>\n",
       "      <td>3119.659072</td>\n",
       "      <td>3374.535218</td>\n",
       "      <td>2</td>\n",
       "      <td>18</td>\n",
       "      <td>1236</td>\n",
       "      <td>1224</td>\n",
       "      <td>15:14:10</td>\n",
       "      <td>58.307000</td>\n",
       "    </tr>\n",
       "    <tr>\n",
       "      <th>28</th>\n",
       "      <td>1545</td>\n",
       "      <td>5</td>\n",
       "      <td>5</td>\n",
       "      <td>4</td>\n",
       "      <td>1</td>\n",
       "      <td>5.0</td>\n",
       "      <td>39</td>\n",
       "      <td>39</td>\n",
       "      <td>762</td>\n",
       "      <td>39</td>\n",
       "      <td>...</td>\n",
       "      <td>0</td>\n",
       "      <td>8034.280664</td>\n",
       "      <td>8972.807739</td>\n",
       "      <td>9705.886131</td>\n",
       "      <td>2</td>\n",
       "      <td>18</td>\n",
       "      <td>1237</td>\n",
       "      <td>1225</td>\n",
       "      <td>14:09:31</td>\n",
       "      <td>53.124833</td>\n",
       "    </tr>\n",
       "    <tr>\n",
       "      <th>29</th>\n",
       "      <td>5656</td>\n",
       "      <td>5</td>\n",
       "      <td>5</td>\n",
       "      <td>3</td>\n",
       "      <td>5</td>\n",
       "      <td>5.0</td>\n",
       "      <td>26</td>\n",
       "      <td>26</td>\n",
       "      <td>921</td>\n",
       "      <td>26</td>\n",
       "      <td>...</td>\n",
       "      <td>0</td>\n",
       "      <td>4170.041867</td>\n",
       "      <td>6582.846660</td>\n",
       "      <td>7139.097203</td>\n",
       "      <td>2</td>\n",
       "      <td>18</td>\n",
       "      <td>1238</td>\n",
       "      <td>1226</td>\n",
       "      <td>11:20:54</td>\n",
       "      <td>61.501000</td>\n",
       "    </tr>\n",
       "    <tr>\n",
       "      <th>...</th>\n",
       "      <td>...</td>\n",
       "      <td>...</td>\n",
       "      <td>...</td>\n",
       "      <td>...</td>\n",
       "      <td>...</td>\n",
       "      <td>...</td>\n",
       "      <td>...</td>\n",
       "      <td>...</td>\n",
       "      <td>...</td>\n",
       "      <td>...</td>\n",
       "      <td>...</td>\n",
       "      <td>...</td>\n",
       "      <td>...</td>\n",
       "      <td>...</td>\n",
       "      <td>...</td>\n",
       "      <td>...</td>\n",
       "      <td>...</td>\n",
       "      <td>...</td>\n",
       "      <td>...</td>\n",
       "      <td>...</td>\n",
       "      <td>...</td>\n",
       "    </tr>\n",
       "    <tr>\n",
       "      <th>7613</th>\n",
       "      <td>4640</td>\n",
       "      <td>5</td>\n",
       "      <td>5</td>\n",
       "      <td>6</td>\n",
       "      <td>5</td>\n",
       "      <td>5.0</td>\n",
       "      <td>18</td>\n",
       "      <td>18</td>\n",
       "      <td>1016</td>\n",
       "      <td>18</td>\n",
       "      <td>...</td>\n",
       "      <td>0</td>\n",
       "      <td>2273.045919</td>\n",
       "      <td>5800.771072</td>\n",
       "      <td>10202.976239</td>\n",
       "      <td>1</td>\n",
       "      <td>76</td>\n",
       "      <td>1234</td>\n",
       "      <td>1222</td>\n",
       "      <td>12:01:09</td>\n",
       "      <td>84.903833</td>\n",
       "    </tr>\n",
       "    <tr>\n",
       "      <th>7614</th>\n",
       "      <td>3998</td>\n",
       "      <td>5</td>\n",
       "      <td>5</td>\n",
       "      <td>2</td>\n",
       "      <td>5</td>\n",
       "      <td>5.0</td>\n",
       "      <td>24</td>\n",
       "      <td>24</td>\n",
       "      <td>935</td>\n",
       "      <td>24</td>\n",
       "      <td>...</td>\n",
       "      <td>0</td>\n",
       "      <td>3544.869231</td>\n",
       "      <td>4031.967457</td>\n",
       "      <td>5671.768622</td>\n",
       "      <td>1</td>\n",
       "      <td>76</td>\n",
       "      <td>1228</td>\n",
       "      <td>1216</td>\n",
       "      <td>17:11:53</td>\n",
       "      <td>106.922500</td>\n",
       "    </tr>\n",
       "    <tr>\n",
       "      <th>7615</th>\n",
       "      <td>2432</td>\n",
       "      <td>5</td>\n",
       "      <td>5</td>\n",
       "      <td>5</td>\n",
       "      <td>5</td>\n",
       "      <td>5.0</td>\n",
       "      <td>15</td>\n",
       "      <td>15</td>\n",
       "      <td>1048</td>\n",
       "      <td>15</td>\n",
       "      <td>...</td>\n",
       "      <td>0</td>\n",
       "      <td>7576.875171</td>\n",
       "      <td>8452.387480</td>\n",
       "      <td>14866.904339</td>\n",
       "      <td>2</td>\n",
       "      <td>76</td>\n",
       "      <td>1234</td>\n",
       "      <td>1222</td>\n",
       "      <td>16:41:31</td>\n",
       "      <td>40.803333</td>\n",
       "    </tr>\n",
       "    <tr>\n",
       "      <th>7616</th>\n",
       "      <td>5438</td>\n",
       "      <td>1</td>\n",
       "      <td>5</td>\n",
       "      <td>3</td>\n",
       "      <td>5</td>\n",
       "      <td>5.0</td>\n",
       "      <td>30</td>\n",
       "      <td>30</td>\n",
       "      <td>862</td>\n",
       "      <td>30</td>\n",
       "      <td>...</td>\n",
       "      <td>0</td>\n",
       "      <td>2273.062551</td>\n",
       "      <td>2559.633775</td>\n",
       "      <td>4440.964600</td>\n",
       "      <td>2</td>\n",
       "      <td>76</td>\n",
       "      <td>1229</td>\n",
       "      <td>1217</td>\n",
       "      <td>12:50:02</td>\n",
       "      <td>86.785000</td>\n",
       "    </tr>\n",
       "    <tr>\n",
       "      <th>7617</th>\n",
       "      <td>9643</td>\n",
       "      <td>1</td>\n",
       "      <td>5</td>\n",
       "      <td>2</td>\n",
       "      <td>5</td>\n",
       "      <td>5.0</td>\n",
       "      <td>24</td>\n",
       "      <td>24</td>\n",
       "      <td>929</td>\n",
       "      <td>24</td>\n",
       "      <td>...</td>\n",
       "      <td>0</td>\n",
       "      <td>2597.785773</td>\n",
       "      <td>2969.368501</td>\n",
       "      <td>4177.010670</td>\n",
       "      <td>2</td>\n",
       "      <td>76</td>\n",
       "      <td>1229</td>\n",
       "      <td>1217</td>\n",
       "      <td>12:26:15</td>\n",
       "      <td>89.036000</td>\n",
       "    </tr>\n",
       "    <tr>\n",
       "      <th>7618</th>\n",
       "      <td>3030</td>\n",
       "      <td>1</td>\n",
       "      <td>5</td>\n",
       "      <td>1</td>\n",
       "      <td>5</td>\n",
       "      <td>5.0</td>\n",
       "      <td>34</td>\n",
       "      <td>34</td>\n",
       "      <td>811</td>\n",
       "      <td>34</td>\n",
       "      <td>...</td>\n",
       "      <td>0</td>\n",
       "      <td>2273.062551</td>\n",
       "      <td>2525.629369</td>\n",
       "      <td>4381.966956</td>\n",
       "      <td>2</td>\n",
       "      <td>76</td>\n",
       "      <td>1229</td>\n",
       "      <td>1217</td>\n",
       "      <td>14:23:39</td>\n",
       "      <td>80.175667</td>\n",
       "    </tr>\n",
       "    <tr>\n",
       "      <th>7619</th>\n",
       "      <td>11585</td>\n",
       "      <td>1</td>\n",
       "      <td>5</td>\n",
       "      <td>4</td>\n",
       "      <td>5</td>\n",
       "      <td>5.0</td>\n",
       "      <td>34</td>\n",
       "      <td>34</td>\n",
       "      <td>814</td>\n",
       "      <td>34</td>\n",
       "      <td>...</td>\n",
       "      <td>0</td>\n",
       "      <td>1720.605492</td>\n",
       "      <td>2260.899193</td>\n",
       "      <td>3922.660100</td>\n",
       "      <td>1</td>\n",
       "      <td>76</td>\n",
       "      <td>1228</td>\n",
       "      <td>1216</td>\n",
       "      <td>15:59:28</td>\n",
       "      <td>113.677500</td>\n",
       "    </tr>\n",
       "    <tr>\n",
       "      <th>7620</th>\n",
       "      <td>6677</td>\n",
       "      <td>1</td>\n",
       "      <td>5</td>\n",
       "      <td>4</td>\n",
       "      <td>1</td>\n",
       "      <td>5.0</td>\n",
       "      <td>26</td>\n",
       "      <td>26</td>\n",
       "      <td>909</td>\n",
       "      <td>26</td>\n",
       "      <td>...</td>\n",
       "      <td>0</td>\n",
       "      <td>3613.271533</td>\n",
       "      <td>4035.558807</td>\n",
       "      <td>4376.563526</td>\n",
       "      <td>1</td>\n",
       "      <td>76</td>\n",
       "      <td>1227</td>\n",
       "      <td>1215</td>\n",
       "      <td>16:35:57</td>\n",
       "      <td>110.918333</td>\n",
       "    </tr>\n",
       "    <tr>\n",
       "      <th>7621</th>\n",
       "      <td>10744</td>\n",
       "      <td>5</td>\n",
       "      <td>5</td>\n",
       "      <td>8</td>\n",
       "      <td>5</td>\n",
       "      <td>1.0</td>\n",
       "      <td>22</td>\n",
       "      <td>22</td>\n",
       "      <td>968</td>\n",
       "      <td>22</td>\n",
       "      <td>...</td>\n",
       "      <td>0</td>\n",
       "      <td>3082.751506</td>\n",
       "      <td>3278.300013</td>\n",
       "      <td>4611.584628</td>\n",
       "      <td>1</td>\n",
       "      <td>76</td>\n",
       "      <td>1234</td>\n",
       "      <td>1222</td>\n",
       "      <td>14:08:25</td>\n",
       "      <td>95.713167</td>\n",
       "    </tr>\n",
       "    <tr>\n",
       "      <th>7622</th>\n",
       "      <td>8403</td>\n",
       "      <td>5</td>\n",
       "      <td>5</td>\n",
       "      <td>4</td>\n",
       "      <td>5</td>\n",
       "      <td>5.0</td>\n",
       "      <td>19</td>\n",
       "      <td>19</td>\n",
       "      <td>995</td>\n",
       "      <td>19</td>\n",
       "      <td>...</td>\n",
       "      <td>0</td>\n",
       "      <td>2408.847688</td>\n",
       "      <td>2563.254954</td>\n",
       "      <td>4508.509139</td>\n",
       "      <td>1</td>\n",
       "      <td>76</td>\n",
       "      <td>1228</td>\n",
       "      <td>1216</td>\n",
       "      <td>17:36:32</td>\n",
       "      <td>62.217000</td>\n",
       "    </tr>\n",
       "    <tr>\n",
       "      <th>7623</th>\n",
       "      <td>7574</td>\n",
       "      <td>5</td>\n",
       "      <td>5</td>\n",
       "      <td>4</td>\n",
       "      <td>5</td>\n",
       "      <td>5.0</td>\n",
       "      <td>19</td>\n",
       "      <td>19</td>\n",
       "      <td>997</td>\n",
       "      <td>19</td>\n",
       "      <td>...</td>\n",
       "      <td>0</td>\n",
       "      <td>2272.098197</td>\n",
       "      <td>2482.173894</td>\n",
       "      <td>4365.895661</td>\n",
       "      <td>2</td>\n",
       "      <td>76</td>\n",
       "      <td>1228</td>\n",
       "      <td>1216</td>\n",
       "      <td>16:09:34</td>\n",
       "      <td>96.809833</td>\n",
       "    </tr>\n",
       "    <tr>\n",
       "      <th>7624</th>\n",
       "      <td>8000</td>\n",
       "      <td>1</td>\n",
       "      <td>5</td>\n",
       "      <td>5</td>\n",
       "      <td>5</td>\n",
       "      <td>5.0</td>\n",
       "      <td>37</td>\n",
       "      <td>37</td>\n",
       "      <td>780</td>\n",
       "      <td>37</td>\n",
       "      <td>...</td>\n",
       "      <td>0</td>\n",
       "      <td>4544.196393</td>\n",
       "      <td>4924.699453</td>\n",
       "      <td>8987.084031</td>\n",
       "      <td>2</td>\n",
       "      <td>76</td>\n",
       "      <td>1227</td>\n",
       "      <td>1215</td>\n",
       "      <td>16:40:18</td>\n",
       "      <td>140.088333</td>\n",
       "    </tr>\n",
       "    <tr>\n",
       "      <th>7625</th>\n",
       "      <td>6288</td>\n",
       "      <td>5</td>\n",
       "      <td>1</td>\n",
       "      <td>3</td>\n",
       "      <td>5</td>\n",
       "      <td>2.0</td>\n",
       "      <td>20</td>\n",
       "      <td>20</td>\n",
       "      <td>986</td>\n",
       "      <td>20</td>\n",
       "      <td>...</td>\n",
       "      <td>0</td>\n",
       "      <td>2272.098197</td>\n",
       "      <td>2585.825443</td>\n",
       "      <td>3637.480651</td>\n",
       "      <td>2</td>\n",
       "      <td>76</td>\n",
       "      <td>1227</td>\n",
       "      <td>1215</td>\n",
       "      <td>17:40:15</td>\n",
       "      <td>93.622333</td>\n",
       "    </tr>\n",
       "    <tr>\n",
       "      <th>7626</th>\n",
       "      <td>5856</td>\n",
       "      <td>5</td>\n",
       "      <td>5</td>\n",
       "      <td>6</td>\n",
       "      <td>5</td>\n",
       "      <td>3.0</td>\n",
       "      <td>23</td>\n",
       "      <td>23</td>\n",
       "      <td>958</td>\n",
       "      <td>23</td>\n",
       "      <td>...</td>\n",
       "      <td>0</td>\n",
       "      <td>12456.163382</td>\n",
       "      <td>31787.898176</td>\n",
       "      <td>44716.036364</td>\n",
       "      <td>1</td>\n",
       "      <td>76</td>\n",
       "      <td>1238</td>\n",
       "      <td>1226</td>\n",
       "      <td>16:04:09</td>\n",
       "      <td>69.623500</td>\n",
       "    </tr>\n",
       "    <tr>\n",
       "      <th>7627</th>\n",
       "      <td>8794</td>\n",
       "      <td>1</td>\n",
       "      <td>5</td>\n",
       "      <td>3</td>\n",
       "      <td>5</td>\n",
       "      <td>5.0</td>\n",
       "      <td>23</td>\n",
       "      <td>23</td>\n",
       "      <td>945</td>\n",
       "      <td>23</td>\n",
       "      <td>...</td>\n",
       "      <td>0</td>\n",
       "      <td>6818.699775</td>\n",
       "      <td>7950.887074</td>\n",
       "      <td>11184.512847</td>\n",
       "      <td>1</td>\n",
       "      <td>76</td>\n",
       "      <td>1228</td>\n",
       "      <td>1216</td>\n",
       "      <td>18:23:51</td>\n",
       "      <td>77.508000</td>\n",
       "    </tr>\n",
       "    <tr>\n",
       "      <th>7628</th>\n",
       "      <td>6365</td>\n",
       "      <td>5</td>\n",
       "      <td>5</td>\n",
       "      <td>3</td>\n",
       "      <td>5</td>\n",
       "      <td>2.0</td>\n",
       "      <td>17</td>\n",
       "      <td>17</td>\n",
       "      <td>1028</td>\n",
       "      <td>17</td>\n",
       "      <td>...</td>\n",
       "      <td>0</td>\n",
       "      <td>2272.899925</td>\n",
       "      <td>3456.977988</td>\n",
       "      <td>6080.478584</td>\n",
       "      <td>1</td>\n",
       "      <td>76</td>\n",
       "      <td>1235</td>\n",
       "      <td>1223</td>\n",
       "      <td>17:15:36</td>\n",
       "      <td>46.016667</td>\n",
       "    </tr>\n",
       "    <tr>\n",
       "      <th>7629</th>\n",
       "      <td>3537</td>\n",
       "      <td>1</td>\n",
       "      <td>5</td>\n",
       "      <td>3</td>\n",
       "      <td>5</td>\n",
       "      <td>2.0</td>\n",
       "      <td>36</td>\n",
       "      <td>36</td>\n",
       "      <td>797</td>\n",
       "      <td>36</td>\n",
       "      <td>...</td>\n",
       "      <td>0</td>\n",
       "      <td>3918.792974</td>\n",
       "      <td>5258.971089</td>\n",
       "      <td>9597.096340</td>\n",
       "      <td>1</td>\n",
       "      <td>76</td>\n",
       "      <td>1239</td>\n",
       "      <td>1227</td>\n",
       "      <td>15:19:09</td>\n",
       "      <td>85.378000</td>\n",
       "    </tr>\n",
       "    <tr>\n",
       "      <th>7630</th>\n",
       "      <td>1515</td>\n",
       "      <td>1</td>\n",
       "      <td>5</td>\n",
       "      <td>1</td>\n",
       "      <td>5</td>\n",
       "      <td>5.0</td>\n",
       "      <td>44</td>\n",
       "      <td>44</td>\n",
       "      <td>688</td>\n",
       "      <td>44</td>\n",
       "      <td>...</td>\n",
       "      <td>0</td>\n",
       "      <td>2272.899925</td>\n",
       "      <td>2680.745920</td>\n",
       "      <td>4467.463075</td>\n",
       "      <td>1</td>\n",
       "      <td>76</td>\n",
       "      <td>1228</td>\n",
       "      <td>1216</td>\n",
       "      <td>16:23:34</td>\n",
       "      <td>147.769667</td>\n",
       "    </tr>\n",
       "    <tr>\n",
       "      <th>7631</th>\n",
       "      <td>9174</td>\n",
       "      <td>1</td>\n",
       "      <td>5</td>\n",
       "      <td>3</td>\n",
       "      <td>5</td>\n",
       "      <td>3.0</td>\n",
       "      <td>32</td>\n",
       "      <td>32</td>\n",
       "      <td>834</td>\n",
       "      <td>32</td>\n",
       "      <td>...</td>\n",
       "      <td>0</td>\n",
       "      <td>2272.899925</td>\n",
       "      <td>2608.931475</td>\n",
       "      <td>4526.496109</td>\n",
       "      <td>1</td>\n",
       "      <td>76</td>\n",
       "      <td>1228</td>\n",
       "      <td>1216</td>\n",
       "      <td>17:30:08</td>\n",
       "      <td>171.005000</td>\n",
       "    </tr>\n",
       "    <tr>\n",
       "      <th>7632</th>\n",
       "      <td>4213</td>\n",
       "      <td>1</td>\n",
       "      <td>5</td>\n",
       "      <td>3</td>\n",
       "      <td>5</td>\n",
       "      <td>2.0</td>\n",
       "      <td>40</td>\n",
       "      <td>40</td>\n",
       "      <td>748</td>\n",
       "      <td>40</td>\n",
       "      <td>...</td>\n",
       "      <td>0</td>\n",
       "      <td>2272.948899</td>\n",
       "      <td>2659.474205</td>\n",
       "      <td>4432.013762</td>\n",
       "      <td>2</td>\n",
       "      <td>76</td>\n",
       "      <td>1229</td>\n",
       "      <td>1217</td>\n",
       "      <td>09:47:43</td>\n",
       "      <td>99.248667</td>\n",
       "    </tr>\n",
       "    <tr>\n",
       "      <th>7633</th>\n",
       "      <td>6804</td>\n",
       "      <td>5</td>\n",
       "      <td>5</td>\n",
       "      <td>3</td>\n",
       "      <td>5</td>\n",
       "      <td>2.0</td>\n",
       "      <td>35</td>\n",
       "      <td>35</td>\n",
       "      <td>805</td>\n",
       "      <td>35</td>\n",
       "      <td>...</td>\n",
       "      <td>0</td>\n",
       "      <td>3247.069856</td>\n",
       "      <td>3814.222882</td>\n",
       "      <td>6960.575338</td>\n",
       "      <td>2</td>\n",
       "      <td>76</td>\n",
       "      <td>1229</td>\n",
       "      <td>1217</td>\n",
       "      <td>14:20:39</td>\n",
       "      <td>103.929167</td>\n",
       "    </tr>\n",
       "    <tr>\n",
       "      <th>7634</th>\n",
       "      <td>1282</td>\n",
       "      <td>1</td>\n",
       "      <td>5</td>\n",
       "      <td>4</td>\n",
       "      <td>5</td>\n",
       "      <td>3.0</td>\n",
       "      <td>35</td>\n",
       "      <td>35</td>\n",
       "      <td>798</td>\n",
       "      <td>35</td>\n",
       "      <td>...</td>\n",
       "      <td>0</td>\n",
       "      <td>2068.394620</td>\n",
       "      <td>2222.154405</td>\n",
       "      <td>4055.209574</td>\n",
       "      <td>1</td>\n",
       "      <td>76</td>\n",
       "      <td>1228</td>\n",
       "      <td>1216</td>\n",
       "      <td>16:31:47</td>\n",
       "      <td>105.509000</td>\n",
       "    </tr>\n",
       "    <tr>\n",
       "      <th>7635</th>\n",
       "      <td>2954</td>\n",
       "      <td>1</td>\n",
       "      <td>5</td>\n",
       "      <td>4</td>\n",
       "      <td>5</td>\n",
       "      <td>3.0</td>\n",
       "      <td>30</td>\n",
       "      <td>30</td>\n",
       "      <td>862</td>\n",
       "      <td>30</td>\n",
       "      <td>...</td>\n",
       "      <td>0</td>\n",
       "      <td>2068.394620</td>\n",
       "      <td>2356.019463</td>\n",
       "      <td>4087.693768</td>\n",
       "      <td>1</td>\n",
       "      <td>76</td>\n",
       "      <td>1228</td>\n",
       "      <td>1216</td>\n",
       "      <td>19:40:51</td>\n",
       "      <td>85.290167</td>\n",
       "    </tr>\n",
       "    <tr>\n",
       "      <th>7636</th>\n",
       "      <td>4964</td>\n",
       "      <td>1</td>\n",
       "      <td>5</td>\n",
       "      <td>3</td>\n",
       "      <td>5</td>\n",
       "      <td>3.0</td>\n",
       "      <td>41</td>\n",
       "      <td>41</td>\n",
       "      <td>727</td>\n",
       "      <td>41</td>\n",
       "      <td>...</td>\n",
       "      <td>0</td>\n",
       "      <td>2068.394620</td>\n",
       "      <td>2222.154405</td>\n",
       "      <td>3703.220316</td>\n",
       "      <td>1</td>\n",
       "      <td>76</td>\n",
       "      <td>1227</td>\n",
       "      <td>1215</td>\n",
       "      <td>12:38:19</td>\n",
       "      <td>306.238000</td>\n",
       "    </tr>\n",
       "    <tr>\n",
       "      <th>7637</th>\n",
       "      <td>143</td>\n",
       "      <td>1</td>\n",
       "      <td>5</td>\n",
       "      <td>1</td>\n",
       "      <td>5</td>\n",
       "      <td>2.0</td>\n",
       "      <td>35</td>\n",
       "      <td>35</td>\n",
       "      <td>808</td>\n",
       "      <td>35</td>\n",
       "      <td>...</td>\n",
       "      <td>0</td>\n",
       "      <td>2273.211779</td>\n",
       "      <td>2463.724427</td>\n",
       "      <td>4496.050707</td>\n",
       "      <td>2</td>\n",
       "      <td>76</td>\n",
       "      <td>1230</td>\n",
       "      <td>1218</td>\n",
       "      <td>17:45:36</td>\n",
       "      <td>83.798833</td>\n",
       "    </tr>\n",
       "    <tr>\n",
       "      <th>7638</th>\n",
       "      <td>11018</td>\n",
       "      <td>1</td>\n",
       "      <td>5</td>\n",
       "      <td>2</td>\n",
       "      <td>5</td>\n",
       "      <td>3.0</td>\n",
       "      <td>34</td>\n",
       "      <td>34</td>\n",
       "      <td>811</td>\n",
       "      <td>34</td>\n",
       "      <td>...</td>\n",
       "      <td>0</td>\n",
       "      <td>3247.445399</td>\n",
       "      <td>3784.333145</td>\n",
       "      <td>6565.818007</td>\n",
       "      <td>2</td>\n",
       "      <td>76</td>\n",
       "      <td>1228</td>\n",
       "      <td>1216</td>\n",
       "      <td>15:57:38</td>\n",
       "      <td>82.907333</td>\n",
       "    </tr>\n",
       "    <tr>\n",
       "      <th>7639</th>\n",
       "      <td>6075</td>\n",
       "      <td>5</td>\n",
       "      <td>5</td>\n",
       "      <td>3</td>\n",
       "      <td>5</td>\n",
       "      <td>3.0</td>\n",
       "      <td>17</td>\n",
       "      <td>17</td>\n",
       "      <td>1014</td>\n",
       "      <td>17</td>\n",
       "      <td>...</td>\n",
       "      <td>0</td>\n",
       "      <td>2273.211779</td>\n",
       "      <td>2497.234491</td>\n",
       "      <td>4392.385746</td>\n",
       "      <td>2</td>\n",
       "      <td>76</td>\n",
       "      <td>1228</td>\n",
       "      <td>1216</td>\n",
       "      <td>18:23:53</td>\n",
       "      <td>54.044833</td>\n",
       "    </tr>\n",
       "    <tr>\n",
       "      <th>7640</th>\n",
       "      <td>5649</td>\n",
       "      <td>1</td>\n",
       "      <td>5</td>\n",
       "      <td>2</td>\n",
       "      <td>5</td>\n",
       "      <td>5.0</td>\n",
       "      <td>29</td>\n",
       "      <td>29</td>\n",
       "      <td>873</td>\n",
       "      <td>29</td>\n",
       "      <td>...</td>\n",
       "      <td>0</td>\n",
       "      <td>3247.445399</td>\n",
       "      <td>3569.313710</td>\n",
       "      <td>6003.228729</td>\n",
       "      <td>2</td>\n",
       "      <td>76</td>\n",
       "      <td>1228</td>\n",
       "      <td>1216</td>\n",
       "      <td>18:42:41</td>\n",
       "      <td>68.168000</td>\n",
       "    </tr>\n",
       "    <tr>\n",
       "      <th>7641</th>\n",
       "      <td>501</td>\n",
       "      <td>5</td>\n",
       "      <td>5</td>\n",
       "      <td>3</td>\n",
       "      <td>5</td>\n",
       "      <td>2.0</td>\n",
       "      <td>16</td>\n",
       "      <td>16</td>\n",
       "      <td>1034</td>\n",
       "      <td>16</td>\n",
       "      <td>...</td>\n",
       "      <td>0</td>\n",
       "      <td>5304.160818</td>\n",
       "      <td>5954.644352</td>\n",
       "      <td>10473.623950</td>\n",
       "      <td>2</td>\n",
       "      <td>76</td>\n",
       "      <td>1228</td>\n",
       "      <td>1216</td>\n",
       "      <td>16:02:45</td>\n",
       "      <td>32.717333</td>\n",
       "    </tr>\n",
       "    <tr>\n",
       "      <th>7642</th>\n",
       "      <td>10252</td>\n",
       "      <td>1</td>\n",
       "      <td>5</td>\n",
       "      <td>2</td>\n",
       "      <td>5</td>\n",
       "      <td>2.0</td>\n",
       "      <td>28</td>\n",
       "      <td>28</td>\n",
       "      <td>889</td>\n",
       "      <td>28</td>\n",
       "      <td>...</td>\n",
       "      <td>0</td>\n",
       "      <td>3247.445399</td>\n",
       "      <td>3476.637428</td>\n",
       "      <td>5847.356491</td>\n",
       "      <td>2</td>\n",
       "      <td>76</td>\n",
       "      <td>1230</td>\n",
       "      <td>1218</td>\n",
       "      <td>12:45:19</td>\n",
       "      <td>74.061500</td>\n",
       "    </tr>\n",
       "  </tbody>\n",
       "</table>\n",
       "<p>7643 rows × 3087 columns</p>\n",
       "</div>"
      ],
      "text/plain": [
       "      caseid  rscrinf  rdormres  rostscrn  rscreenhisp  rscreenrace  age_a  \\\n",
       "0       2298        1         5         5            1          5.0     27   \n",
       "1       5012        1         5         1            5          5.0     42   \n",
       "2      11586        1         5         1            5          5.0     43   \n",
       "3       6794        5         5         4            1          5.0     15   \n",
       "4        616        1         5         4            1          5.0     20   \n",
       "5        845        1         5         4            1          5.0     42   \n",
       "6      10333        5         5         3            1          5.0     17   \n",
       "7        855        5         5         4            5          5.0     22   \n",
       "8       8656        5         5         4            1          5.0     38   \n",
       "9       3566        5         5         4            5          5.0     21   \n",
       "10      5917        1         5         3            1          5.0     44   \n",
       "11      9200        5         5         3            1          5.0     26   \n",
       "12      6320        5         5         5            5          1.0     23   \n",
       "13     11700        1         5         4            1          5.0     34   \n",
       "14      7354        1         5         4            1          5.0     28   \n",
       "15      3697        5         5         4            5          5.0     28   \n",
       "16      4881        1         5         5            1          5.0     23   \n",
       "17      5862        1         5         4            1          5.0     33   \n",
       "18      8542        5         5         5            5          5.0     16   \n",
       "19      2054        1         5         4            5          1.0     24   \n",
       "20      3719        5         5         2            5          5.0     22   \n",
       "21     11740        1         5         5            1          5.0     32   \n",
       "22     11343        1         5         5            1          5.0     41   \n",
       "23      7075        1         5         4            1          5.0     37   \n",
       "24      5422        1         5         2            1          5.0     38   \n",
       "25      2178        5         5         3            1          5.0     29   \n",
       "26      8358        5         5         4            5          5.0     21   \n",
       "27      5083        1         5         4            1          5.0     37   \n",
       "28      1545        5         5         4            1          5.0     39   \n",
       "29      5656        5         5         3            5          5.0     26   \n",
       "...      ...      ...       ...       ...          ...          ...    ...   \n",
       "7613    4640        5         5         6            5          5.0     18   \n",
       "7614    3998        5         5         2            5          5.0     24   \n",
       "7615    2432        5         5         5            5          5.0     15   \n",
       "7616    5438        1         5         3            5          5.0     30   \n",
       "7617    9643        1         5         2            5          5.0     24   \n",
       "7618    3030        1         5         1            5          5.0     34   \n",
       "7619   11585        1         5         4            5          5.0     34   \n",
       "7620    6677        1         5         4            1          5.0     26   \n",
       "7621   10744        5         5         8            5          1.0     22   \n",
       "7622    8403        5         5         4            5          5.0     19   \n",
       "7623    7574        5         5         4            5          5.0     19   \n",
       "7624    8000        1         5         5            5          5.0     37   \n",
       "7625    6288        5         1         3            5          2.0     20   \n",
       "7626    5856        5         5         6            5          3.0     23   \n",
       "7627    8794        1         5         3            5          5.0     23   \n",
       "7628    6365        5         5         3            5          2.0     17   \n",
       "7629    3537        1         5         3            5          2.0     36   \n",
       "7630    1515        1         5         1            5          5.0     44   \n",
       "7631    9174        1         5         3            5          3.0     32   \n",
       "7632    4213        1         5         3            5          2.0     40   \n",
       "7633    6804        5         5         3            5          2.0     35   \n",
       "7634    1282        1         5         4            5          3.0     35   \n",
       "7635    2954        1         5         4            5          3.0     30   \n",
       "7636    4964        1         5         3            5          3.0     41   \n",
       "7637     143        1         5         1            5          2.0     35   \n",
       "7638   11018        1         5         2            5          3.0     34   \n",
       "7639    6075        5         5         3            5          3.0     17   \n",
       "7640    5649        1         5         2            5          5.0     29   \n",
       "7641     501        5         5         3            5          2.0     16   \n",
       "7642   10252        1         5         2            5          2.0     28   \n",
       "\n",
       "      age_r  cmbirth  agescrn     ...      pubassis_i       basewgt  \\\n",
       "0        27      902       27     ...               0   3247.916977   \n",
       "1        42      718       42     ...               0   2335.279149   \n",
       "2        43      708       43     ...               0   2335.279149   \n",
       "3        15     1042       15     ...               0   3783.152221   \n",
       "4        20      991       20     ...               0   5341.329968   \n",
       "5        42      727       42     ...               0   2335.279149   \n",
       "6        17     1029       17     ...               0   2335.279149   \n",
       "7        22      965       22     ...               0   4670.558298   \n",
       "8        38      780       38     ...               0   5198.652195   \n",
       "9        21      974       21     ...               0   2764.142038   \n",
       "10       43      714       43     ...               0   2418.624283   \n",
       "11       26      923       26     ...               0   2418.624283   \n",
       "12       23      952       23     ...               0   5497.225851   \n",
       "13       34      822       34     ...               0   3362.448309   \n",
       "14       28      896       28     ...               0   2417.628123   \n",
       "15       28      896       28     ...               0   9670.512492   \n",
       "16       23      948       23     ...               0   3292.089359   \n",
       "17       33      831       33     ...               0   3056.771190   \n",
       "18       16     1036       16     ...               0   5900.163872   \n",
       "19       24      939       24     ...               0   2417.628123   \n",
       "20       22      972       22     ...               1   4168.324350   \n",
       "21       32      843       32     ...               0   2417.628123   \n",
       "22       41      741       41     ...               0   2417.628123   \n",
       "23       37      782       37     ...               0   4308.038516   \n",
       "24       38      773       38     ...               0   3363.768618   \n",
       "25       29      877       29     ...               0   3363.768618   \n",
       "26       21      977       21     ...               0   2418.624283   \n",
       "27       37      789       37     ...               0   2418.624283   \n",
       "28       39      762       39     ...               0   8034.280664   \n",
       "29       26      921       26     ...               0   4170.041867   \n",
       "...     ...      ...      ...     ...             ...           ...   \n",
       "7613     18     1016       18     ...               0   2273.045919   \n",
       "7614     24      935       24     ...               0   3544.869231   \n",
       "7615     15     1048       15     ...               0   7576.875171   \n",
       "7616     30      862       30     ...               0   2273.062551   \n",
       "7617     24      929       24     ...               0   2597.785773   \n",
       "7618     34      811       34     ...               0   2273.062551   \n",
       "7619     34      814       34     ...               0   1720.605492   \n",
       "7620     26      909       26     ...               0   3613.271533   \n",
       "7621     22      968       22     ...               0   3082.751506   \n",
       "7622     19      995       19     ...               0   2408.847688   \n",
       "7623     19      997       19     ...               0   2272.098197   \n",
       "7624     37      780       37     ...               0   4544.196393   \n",
       "7625     20      986       20     ...               0   2272.098197   \n",
       "7626     23      958       23     ...               0  12456.163382   \n",
       "7627     23      945       23     ...               0   6818.699775   \n",
       "7628     17     1028       17     ...               0   2272.899925   \n",
       "7629     36      797       36     ...               0   3918.792974   \n",
       "7630     44      688       44     ...               0   2272.899925   \n",
       "7631     32      834       32     ...               0   2272.899925   \n",
       "7632     40      748       40     ...               0   2272.948899   \n",
       "7633     35      805       35     ...               0   3247.069856   \n",
       "7634     35      798       35     ...               0   2068.394620   \n",
       "7635     30      862       30     ...               0   2068.394620   \n",
       "7636     41      727       41     ...               0   2068.394620   \n",
       "7637     35      808       35     ...               0   2273.211779   \n",
       "7638     34      811       34     ...               0   3247.445399   \n",
       "7639     17     1014       17     ...               0   2273.211779   \n",
       "7640     29      873       29     ...               0   3247.445399   \n",
       "7641     16     1034       16     ...               0   5304.160818   \n",
       "7642     28      889       28     ...               0   3247.445399   \n",
       "\n",
       "      adj_mod_basewgt      finalwgt  secu_r  sest  cmintvw  cmlstyr  \\\n",
       "0         5123.759559   5556.717241       2    18     1234     1222   \n",
       "1         2846.799490   4744.191350       2    18     1233     1221   \n",
       "2         2846.799490   4744.191350       2    18     1234     1222   \n",
       "3         5071.464231   5923.977368       2    18     1234     1222   \n",
       "4         6437.335772   7229.128072       2    18     1233     1221   \n",
       "5         3725.796795   4705.681352       2    18     1234     1222   \n",
       "6         2687.399758   3139.151658       2    18     1236     1224   \n",
       "7         7122.614751  10019.382170       2    18     1235     1223   \n",
       "8         6027.568848   6520.021223       2    18     1237     1225   \n",
       "9         3240.986558   4559.095792       2    18     1231     1219   \n",
       "10        2762.143030   3488.586646       2    18     1233     1221   \n",
       "11        2754.293339   2987.031126       2    18     1237     1225   \n",
       "12        6448.332868   7241.477811       1    18     1236     1224   \n",
       "13        3677.062170   4666.559600       1    18     1236     1224   \n",
       "14        2790.899197   3026.730179       1    18     1235     1223   \n",
       "15       18559.585881  31215.367494       1    18     1236     1224   \n",
       "16        3935.302679   4419.344908       1    18     1234     1222   \n",
       "17        3456.489520   4386.630850       1    18     1234     1222   \n",
       "18        6697.056170   7822.831313       1    18     1237     1225   \n",
       "19        2570.384230   2886.541491       1    18     1236     1224   \n",
       "20        4879.253694   5479.401898       1    18     1238     1226   \n",
       "21        2790.899197   3541.930171       1    18     1234     1222   \n",
       "22        4394.216361   5549.895265       1    18     1237     1225   \n",
       "23        5562.306199   6016.746616       2    18     1232     1220   \n",
       "24        3948.605534   4271.206606       1    18     1234     1222   \n",
       "25        5306.521605   5754.922681       1    18     1234     1222   \n",
       "26        2688.131135   3018.771264       2    18     1237     1225   \n",
       "27        3119.659072   3374.535218       2    18     1236     1224   \n",
       "28        8972.807739   9705.886131       2    18     1237     1225   \n",
       "29        6582.846660   7139.097203       2    18     1238     1226   \n",
       "...               ...           ...     ...   ...      ...      ...   \n",
       "7613      5800.771072  10202.976239       1    76     1234     1222   \n",
       "7614      4031.967457   5671.768622       1    76     1228     1216   \n",
       "7615      8452.387480  14866.904339       2    76     1234     1222   \n",
       "7616      2559.633775   4440.964600       2    76     1229     1217   \n",
       "7617      2969.368501   4177.010670       2    76     1229     1217   \n",
       "7618      2525.629369   4381.966956       2    76     1229     1217   \n",
       "7619      2260.899193   3922.660100       1    76     1228     1216   \n",
       "7620      4035.558807   4376.563526       1    76     1227     1215   \n",
       "7621      3278.300013   4611.584628       1    76     1234     1222   \n",
       "7622      2563.254954   4508.509139       1    76     1228     1216   \n",
       "7623      2482.173894   4365.895661       2    76     1228     1216   \n",
       "7624      4924.699453   8987.084031       2    76     1227     1215   \n",
       "7625      2585.825443   3637.480651       2    76     1227     1215   \n",
       "7626     31787.898176  44716.036364       1    76     1238     1226   \n",
       "7627      7950.887074  11184.512847       1    76     1228     1216   \n",
       "7628      3456.977988   6080.478584       1    76     1235     1223   \n",
       "7629      5258.971089   9597.096340       1    76     1239     1227   \n",
       "7630      2680.745920   4467.463075       1    76     1228     1216   \n",
       "7631      2608.931475   4526.496109       1    76     1228     1216   \n",
       "7632      2659.474205   4432.013762       2    76     1229     1217   \n",
       "7633      3814.222882   6960.575338       2    76     1229     1217   \n",
       "7634      2222.154405   4055.209574       1    76     1228     1216   \n",
       "7635      2356.019463   4087.693768       1    76     1228     1216   \n",
       "7636      2222.154405   3703.220316       1    76     1227     1215   \n",
       "7637      2463.724427   4496.050707       2    76     1230     1218   \n",
       "7638      3784.333145   6565.818007       2    76     1228     1216   \n",
       "7639      2497.234491   4392.385746       2    76     1228     1216   \n",
       "7640      3569.313710   6003.228729       2    76     1228     1216   \n",
       "7641      5954.644352  10473.623950       2    76     1228     1216   \n",
       "7642      3476.637428   5847.356491       2    76     1230     1218   \n",
       "\n",
       "      screentime   intvlngth  \n",
       "0       18:26:36  110.492667  \n",
       "1       16:30:59   64.294000  \n",
       "2       18:19:09   75.149167  \n",
       "3       15:54:43   28.642833  \n",
       "4       14:19:44   69.502667  \n",
       "5       17:10:13   95.488000  \n",
       "6       14:14:38   61.204333  \n",
       "7       14:42:52   59.756333  \n",
       "8       15:32:34   56.978833  \n",
       "9       16:22:25  104.744667  \n",
       "10      15:38:06   96.850167  \n",
       "11      14:12:31   61.060667  \n",
       "12      14:27:20   69.906500  \n",
       "13      11:35:31   77.493333  \n",
       "14      14:40:18   79.018500  \n",
       "15      11:59:26   45.963500  \n",
       "16      20:37:54  110.416833  \n",
       "17      16:42:13  107.819667  \n",
       "18      13:04:36   72.481500  \n",
       "19      13:58:43   87.417500  \n",
       "20      12:50:26   53.782000  \n",
       "21      14:23:08   92.950500  \n",
       "22      20:29:06   70.791667  \n",
       "23      16:30:34   80.659000  \n",
       "24      17:07:52   45.171500  \n",
       "25      18:28:12   77.489833  \n",
       "26      16:10:17   28.934833  \n",
       "27      15:14:10   58.307000  \n",
       "28      14:09:31   53.124833  \n",
       "29      11:20:54   61.501000  \n",
       "...          ...         ...  \n",
       "7613    12:01:09   84.903833  \n",
       "7614    17:11:53  106.922500  \n",
       "7615    16:41:31   40.803333  \n",
       "7616    12:50:02   86.785000  \n",
       "7617    12:26:15   89.036000  \n",
       "7618    14:23:39   80.175667  \n",
       "7619    15:59:28  113.677500  \n",
       "7620    16:35:57  110.918333  \n",
       "7621    14:08:25   95.713167  \n",
       "7622    17:36:32   62.217000  \n",
       "7623    16:09:34   96.809833  \n",
       "7624    16:40:18  140.088333  \n",
       "7625    17:40:15   93.622333  \n",
       "7626    16:04:09   69.623500  \n",
       "7627    18:23:51   77.508000  \n",
       "7628    17:15:36   46.016667  \n",
       "7629    15:19:09   85.378000  \n",
       "7630    16:23:34  147.769667  \n",
       "7631    17:30:08  171.005000  \n",
       "7632    09:47:43   99.248667  \n",
       "7633    14:20:39  103.929167  \n",
       "7634    16:31:47  105.509000  \n",
       "7635    19:40:51   85.290167  \n",
       "7636    12:38:19  306.238000  \n",
       "7637    17:45:36   83.798833  \n",
       "7638    15:57:38   82.907333  \n",
       "7639    18:23:53   54.044833  \n",
       "7640    18:42:41   68.168000  \n",
       "7641    16:02:45   32.717333  \n",
       "7642    12:45:19   74.061500  \n",
       "\n",
       "[7643 rows x 3087 columns]"
      ]
     },
     "execution_count": 31,
     "metadata": {},
     "output_type": "execute_result"
    }
   ],
   "source": [
    "resp = nsfg.ReadFemResp()\n",
    "resp"
   ]
  },
  {
   "cell_type": "markdown",
   "metadata": {},
   "source": [
    "Make a histogram of <tt>totincr</tt> the total income for the respondent's family.  To interpret the codes see the [codebook](http://www.icpsr.umich.edu/nsfg6/Controller?displayPage=labelDetails&fileCode=FEM&section=R&subSec=7876&srtLabel=607543)."
   ]
  },
  {
   "cell_type": "code",
   "execution_count": 41,
   "metadata": {
    "collapsed": false
   },
   "outputs": [
    {
     "data": {
      "image/png": "[encoded data removed]",
      "text/plain": [
       "<matplotlib.figure.Figure at 0x1a1f60b690>"
      ]
     },
     "metadata": {},
     "output_type": "display_data"
    }
   ],
   "source": [
    "hist = thinkstats2.Hist(resp.totincr, label='total income')\n",
    "thinkplot.Hist(hist)\n",
    "thinkplot.Config(xlabel='income (category)', ylabel='count')"
   ]
  },
  {
   "cell_type": "markdown",
   "metadata": {},
   "source": [
    "Make a histogram of <tt>age_r</tt>, the respondent's age at the time of interview."
   ]
  },
  {
   "cell_type": "code",
   "execution_count": 45,
   "metadata": {
    "collapsed": false
   },
   "outputs": [
    {
     "data": {
      "image/png": "[encoded data removed]",
      "text/plain": [
       "<matplotlib.figure.Figure at 0x1a26ca8390>"
      ]
     },
     "metadata": {},
     "output_type": "display_data"
    }
   ],
   "source": [
    "hist = thinkstats2.Hist(resp.age_r, label='age_r')\n",
    "thinkplot.Hist(hist)\n",
    "thinkplot.Config(xlabel=\"respondent's age (years)\", ylabel='count')"
   ]
  },
  {
   "cell_type": "markdown",
   "metadata": {},
   "source": [
    "Make a histogram of <tt>numfmhh</tt>, the number of people in the respondent's household."
   ]
  },
  {
   "cell_type": "code",
   "execution_count": 48,
   "metadata": {
    "collapsed": false
   },
   "outputs": [
    {
     "data": {
      "image/png": "[encoded data removed]",
      "text/plain": [
       "<matplotlib.figure.Figure at 0x1a262411d0>"
      ]
     },
     "metadata": {},
     "output_type": "display_data"
    }
   ],
   "source": [
    "hist = thinkstats2.Hist(resp.numfmhh, label ='numfmhh')\n",
    "thinkplot.Hist(hist)\n",
    "thinkplot.Config(xlabel='number of people', ylabel='count')"
   ]
  },
  {
   "cell_type": "markdown",
   "metadata": {},
   "source": [
    "Make a histogram of <tt>parity</tt>, the number of children borne by the respondent.  How would you describe this distribution?"
   ]
  },
  {
   "cell_type": "code",
   "execution_count": 51,
   "metadata": {
    "collapsed": false
   },
   "outputs": [
    {
     "data": {
      "image/png": "[encoded data removed]",
      "text/plain": [
       "<matplotlib.figure.Figure at 0x1a262d5950>"
      ]
     },
     "metadata": {},
     "output_type": "display_data"
    }
   ],
   "source": [
    "hist = thinkstats2.Hist(resp.parity, label='parity')\n",
    "thinkplot.Hist(hist)\n",
    "thinkplot.Config(xlabel='number of children', ylabel='count')\n",
    "# this distribution is skewed to the right"
   ]
  },
  {
   "cell_type": "markdown",
   "metadata": {},
   "source": [
    "Use Hist.Largest to find the largest values of <tt>parity</tt>."
   ]
  },
  {
   "cell_type": "code",
   "execution_count": 54,
   "metadata": {
    "collapsed": false
   },
   "outputs": [
    {
     "data": {
      "text/plain": [
       "[(22, 1),\n",
       " (16, 1),\n",
       " (10, 3),\n",
       " (9, 2),\n",
       " (8, 8),\n",
       " (7, 15),\n",
       " (6, 29),\n",
       " (5, 95),\n",
       " (4, 309),\n",
       " (3, 828)]"
      ]
     },
     "execution_count": 54,
     "metadata": {},
     "output_type": "execute_result"
    }
   ],
   "source": [
    "hist.Largest(10)"
   ]
  },
  {
   "cell_type": "markdown",
   "metadata": {},
   "source": [
    "Let's investigate whether people with higher income have higher parity.  Keep in mind that in this study, we are observing different people at different times during their lives, so this data is not the best choice for answering this question.  But for now let's take it at face value.\n",
    "\n",
    "Use <tt>totincr</tt> to select the respondents with the highest income (level 14).  Plot the histogram of <tt>parity</tt> for just the high income respondents."
   ]
  },
  {
   "cell_type": "code",
   "execution_count": 57,
   "metadata": {
    "collapsed": false
   },
   "outputs": [
    {
     "data": {
      "image/png": "[encoded data removed]",
      "text/plain": [
       "<matplotlib.figure.Figure at 0x1a1f472850>"
      ]
     },
     "metadata": {},
     "output_type": "display_data"
    }
   ],
   "source": [
    "rich = resp[resp.totincr == 14]\n",
    "hist = thinkstats2.Hist(rich.parity)\n",
    "thinkplot.Hist(hist)\n",
    "thinkplot.Config(xlabel='parity', ylabel='count')\n"
   ]
  },
  {
   "cell_type": "markdown",
   "metadata": {},
   "source": [
    "Find the largest parities for high income respondents."
   ]
  },
  {
   "cell_type": "code",
   "execution_count": 59,
   "metadata": {
    "collapsed": false
   },
   "outputs": [
    {
     "data": {
      "text/plain": [
       "[(8, 1), (7, 1), (5, 5), (4, 19), (3, 123), (2, 267), (1, 229), (0, 515)]"
      ]
     },
     "execution_count": 59,
     "metadata": {},
     "output_type": "execute_result"
    }
   ],
   "source": [
    "hist.Largest(10)\n",
    "# There is one rich family that has 8 children, and no other rich family has more than 7 children"
   ]
  },
  {
   "cell_type": "markdown",
   "metadata": {},
   "source": [
    "Compare the mean <tt>parity</tt> for high income respondents and others."
   ]
  },
  {
   "cell_type": "code",
   "execution_count": 60,
   "metadata": {
    "collapsed": false
   },
   "outputs": [
    {
     "data": {
      "text/plain": [
       "(1.0758620689655172, 1.2495758136665125)"
      ]
     },
     "execution_count": 60,
     "metadata": {},
     "output_type": "execute_result"
    }
   ],
   "source": [
    "other = resp[resp.totincr != 14]\n",
    "rich.parity.mean(), other.parity.mean()"
   ]
  },
  {
   "cell_type": "markdown",
   "metadata": {},
   "source": [
    "Compute the Cohen effect size for this difference.  How does it compare with the difference in pregnancy length for first babies and others?"
   ]
  },
  {
   "cell_type": "code",
   "execution_count": 61,
   "metadata": {
    "collapsed": false
   },
   "outputs": [
    {
     "data": {
      "text/plain": [
       "-0.1251185531466061"
      ]
     },
     "execution_count": 61,
     "metadata": {},
     "output_type": "execute_result"
    }
   ],
   "source": [
    "CohenEffectSize(rich.parity, other.parity)"
   ]
  }
 ],
 "metadata": {
  "kernelspec": {
   "display_name": "Python 2",
   "language": "python",
   "name": "python2"
  },
  "language_info": {
   "codemirror_mode": {
    "name": "ipython",
    "version": 2
   },
   "file_extension": ".py",
   "mimetype": "text/x-python",
   "name": "python",
   "nbconvert_exporter": "python",
   "pygments_lexer": "ipython2",
   "version": "2.7.14"
  }
 },
 "nbformat": 4,
 "nbformat_minor": 2
}
